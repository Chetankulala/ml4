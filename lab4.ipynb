{
 "cells": [
  {
   "cell_type": "code",
   "execution_count": 44,
   "id": "7051e10a-8c74-42e0-b839-d366d87b4679",
   "metadata": {},
   "outputs": [
    {
     "name": "stdout",
     "output_type": "stream",
     "text": [
      "[1.5219280948873621, 1.5709505944546684, 1.0, 0.9709505944546686, 0.9709505944546686]\n",
      "None\n"
     ]
    }
   ],
   "source": [
    "import pandas as pd\n",
    "import numpy as np\n",
    "import math\n",
    "df =pd.DataFrame ({\n",
    "    'age': ['<=30', '<=30', '31...40', '>40', '>40', '>40', '31...40', '<=30', '<=30', '>40'],\n",
    "    'income': ['high', 'high', 'high', 'medium', 'low', 'low', 'medium', 'medium', 'low', 'medium'],\n",
    "    'student': ['no', 'no', 'no', 'no', 'yes', 'yes', 'yes', 'no', 'yes', 'yes'],\n",
    "    'credit_rating': ['fair', 'excellent', 'fair', 'fair', 'fair', 'excellent', 'excellent', 'fair', 'fair', 'excellent'],\n",
    "    'buys_computer': ['no', 'no', 'yes', 'yes', 'yes', 'no', 'yes', 'no', 'yes', 'yes']\n",
    "})\n",
    "def entropy(df):\n",
    "    count=[]\n",
    "    leng=len(df)\n",
    "    entropy=[]\n",
    "    \n",
    "    for i in df.columns:\n",
    "        count=df[i].value_counts()\n",
    "        \n",
    "        e=0\n",
    "        for a in count:\n",
    "            p=a/leng\n",
    "            e-=p*math.log2(p)\n",
    "        entropy+=[e]\n",
    "    return entropy\n",
    "print(entropy(df))\n",
    "def entropy_of_series(dt):\n",
    "    value_counts = dt.value_counts()\n",
    "    total_samples = len(dt)\n",
    "    entropy_value = 0\n",
    "\n",
    "    for count in value_counts:\n",
    "        probability = count / total_samples\n",
    "        entropy_value -= probability * math.log2(probability)\n",
    "\n",
    "    return entropy_value\n",
    "\n",
    "def root_node(data):\n",
    "    target_entropy = entropy_of_series(df[\"buys_computer\"])\n",
    "    features = ['age', 'income', 'student', 'credit_rating']\n",
    "    max_information_gain = 0\n",
    "    root_node_feature = None\n",
    "\n",
    "    for feature in features:\n",
    "        weighted_entropy = 0\n",
    "        unique_values = data[feature]\n",
    "        for value in unique_values:\n",
    "            subset = data[data[feature] == value]\n",
    "            subset_entropy = entropy_of_series(subset['buys_computer'])\n",
    "            weight = len(subset) / len(data)\n",
    "            weighted_entropy += weight * subset_entropy\n",
    "        info_gain= target_entropy - weighted_entropy\n",
    "        if info_gain > max_information_gain:\n",
    "            max_information_gain = info_gain\n",
    "            root_node_feature = feature\n",
    "\n",
    "    return root_node_feature\n",
    "print(root_node(df))"
   ]
  },
  {
   "cell_type": "code",
   "execution_count": null,
   "id": "74fa9739-45ab-4a6c-b018-f5b9ed1436bd",
   "metadata": {},
   "outputs": [],
   "source": []
  }
 ],
 "metadata": {
  "kernelspec": {
   "display_name": "Python 3 (ipykernel)",
   "language": "python",
   "name": "python3"
  },
  "language_info": {
   "codemirror_mode": {
    "name": "ipython",
    "version": 3
   },
   "file_extension": ".py",
   "mimetype": "text/x-python",
   "name": "python",
   "nbconvert_exporter": "python",
   "pygments_lexer": "ipython3",
   "version": "3.11.4"
  }
 },
 "nbformat": 4,
 "nbformat_minor": 5
}
